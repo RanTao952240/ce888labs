{
 "cells": [
  {
   "cell_type": "code",
   "execution_count": 53,
   "metadata": {},
   "outputs": [],
   "source": [
    "from __future__ import print_function\n",
    "import numpy as np\n",
    "np.random.seed(1337)  # for reproducibility\n",
    "\n",
    "from keras.preprocessing import sequence\n",
    "from keras.models import Model\n",
    "from keras.layers import Dense, Activation, Embedding, Flatten, Input, Convolution1D\n",
    "from keras.datasets import imdb"
   ]
  },
  {
   "cell_type": "code",
   "execution_count": 2,
   "metadata": {},
   "outputs": [],
   "source": [
    "max_features = 20000\n",
    "maxlen = 80  # cut texts after this number of words (among top max_features most common words)\n",
    "batch_size = 32"
   ]
  },
  {
   "cell_type": "code",
   "execution_count": 3,
   "metadata": {},
   "outputs": [
    {
     "name": "stdout",
     "output_type": "stream",
     "text": [
      "Loading data...\n"
     ]
    },
    {
     "name": "stderr",
     "output_type": "stream",
     "text": [
      "c:\\users\\chentao\\appdata\\local\\programs\\python\\python36\\lib\\site-packages\\keras\\datasets\\imdb.py:49: UserWarning: The `nb_words` argument in `load_data` has been renamed `num_words`.\n",
      "  warnings.warn('The `nb_words` argument in `load_data` '\n"
     ]
    },
    {
     "name": "stdout",
     "output_type": "stream",
     "text": [
      "25000 train sequences\n",
      "25000 test sequences\n"
     ]
    }
   ],
   "source": [
    "print('Loading data...')\n",
    "(X_train, y_train), (X_test, y_test) = imdb.load_data(nb_words=max_features)\n",
    "print(len(X_train), 'train sequences')\n",
    "print(len(X_test), 'test sequences')"
   ]
  },
  {
   "cell_type": "code",
   "execution_count": 4,
   "metadata": {},
   "outputs": [
    {
     "name": "stdout",
     "output_type": "stream",
     "text": [
      "[1, 14, 22, 16, 43, 530, 973, 1622, 1385, 65, 458, 4468, 66, 3941, 4, 173, 36, 256, 5, 25, 100, 43, 838, 112, 50, 670, 2, 9, 35, 480, 284, 5, 150, 4, 172, 112, 167, 2, 336, 385, 39, 4, 172, 4536, 1111, 17, 546, 38, 13, 447, 4, 192, 50, 16, 6, 147, 2025, 19, 14, 22, 4, 1920, 4613, 469, 4, 22, 71, 87, 12, 16, 43, 530, 38, 76, 15, 13, 1247, 4, 22, 17, 515, 17, 12, 16, 626, 18, 19193, 5, 62, 386, 12, 8, 316, 8, 106, 5, 4, 2223, 5244, 16, 480, 66, 3785, 33, 4, 130, 12, 16, 38, 619, 5, 25, 124, 51, 36, 135, 48, 25, 1415, 33, 6, 22, 12, 215, 28, 77, 52, 5, 14, 407, 16, 82, 10311, 8, 4, 107, 117, 5952, 15, 256, 4, 2, 7, 3766, 5, 723, 36, 71, 43, 530, 476, 26, 400, 317, 46, 7, 4, 12118, 1029, 13, 104, 88, 4, 381, 15, 297, 98, 32, 2071, 56, 26, 141, 6, 194, 7486, 18, 4, 226, 22, 21, 134, 476, 26, 480, 5, 144, 30, 5535, 18, 51, 36, 28, 224, 92, 25, 104, 4, 226, 65, 16, 38, 1334, 88, 12, 16, 283, 5, 16, 4472, 113, 103, 32, 15, 16, 5345, 19, 178, 32]\n"
     ]
    }
   ],
   "source": [
    "print (X_train[0])"
   ]
  },
  {
   "cell_type": "code",
   "execution_count": 5,
   "metadata": {},
   "outputs": [
    {
     "name": "stdout",
     "output_type": "stream",
     "text": [
      "Pad sequences (samples x time)\n",
      "X_train shape: (25000, 80)\n",
      "X_test shape: (25000, 80)\n"
     ]
    }
   ],
   "source": [
    "print('Pad sequences (samples x time)')\n",
    "X_train = sequence.pad_sequences(X_train, maxlen=maxlen)\n",
    "X_test = sequence.pad_sequences(X_test, maxlen=maxlen)\n",
    "print('X_train shape:', X_train.shape)\n",
    "print('X_test shape:', X_test.shape)"
   ]
  },
  {
   "cell_type": "code",
   "execution_count": 6,
   "metadata": {},
   "outputs": [
    {
     "name": "stdout",
     "output_type": "stream",
     "text": [
      "Build model...\n"
     ]
    }
   ],
   "source": [
    "print('Build model...')"
   ]
  },
  {
   "cell_type": "code",
   "execution_count": 13,
   "metadata": {},
   "outputs": [
    {
     "name": "stderr",
     "output_type": "stream",
     "text": [
      "c:\\users\\chentao\\appdata\\local\\programs\\python\\python36\\lib\\site-packages\\ipykernel_launcher.py:4: UserWarning: The `dropout` argument is no longer support in `Embedding`. You can apply a `keras.layers.SpatialDropout1D` layer right after the `Embedding` layer to get the same behavior.\n",
      "  after removing the cwd from sys.path.\n"
     ]
    }
   ],
   "source": [
    "from keras.models import Sequential\n",
    "from keras.layers import  Dropout\n",
    "model = Sequential()\n",
    "model.add(Embedding(max_features,128,input_shape =(maxlen,), dropout = 0.2))\n",
    "model.add(Dense(64, activation = \"relu\"))\n",
    "model.add(Dropout(0.2))\n",
    "model.add(Flatten())\n",
    "model.add(Dense(1, activation  = \"sigmoid\"))\n",
    "\n",
    "\n",
    "# inputs = Input(shape=(maxlen,))\n",
    "# x = inputs\n",
    "# x = Embedding(max_features, 128, dropout=0.2)(x)\n",
    "# x= Dense(64,activation = \"relu\")(x)\n",
    "# x = Flatten()(x)\n",
    "# x = Dense(1)(x)\n",
    "# predictions = Activation(\"sigmoid\")(x)"
   ]
  },
  {
   "cell_type": "code",
   "execution_count": 77,
   "metadata": {},
   "outputs": [],
   "source": [
    "from keras.models import Sequential\n",
    "from keras.layers import Dropout\n",
    "from keras.layers import Convolution2D, GlobalMaxPooling2D, Convolution1D, GlobalMaxPooling1D,LSTM\n",
    "from keras.layers.advanced_activations import PReLU\n",
    "\n"
   ]
  },
  {
   "cell_type": "code",
   "execution_count": 84,
   "metadata": {},
   "outputs": [
    {
     "name": "stderr",
     "output_type": "stream",
     "text": [
      "c:\\users\\chentao\\appdata\\local\\programs\\python\\python36\\lib\\site-packages\\ipykernel_launcher.py:2: UserWarning: The `dropout` argument is no longer support in `Embedding`. You can apply a `keras.layers.SpatialDropout1D` layer right after the `Embedding` layer to get the same behavior.\n",
      "  \n",
      "c:\\users\\chentao\\appdata\\local\\programs\\python\\python36\\lib\\site-packages\\ipykernel_launcher.py:4: UserWarning: Update your `LSTM` call to the Keras 2 API: `LSTM(128, dropout=0.2, recurrent_dropout=0.2)`\n",
      "  after removing the cwd from sys.path.\n"
     ]
    }
   ],
   "source": [
    "model1 = Sequential()\n",
    "model1.add(Embedding(max_features,128,input_shape =(maxlen,), dropout = 0.2))\n",
    "# model1.add(Dense(64, activation = \"relu\"))\n",
    "model1.add(LSTM(128,dropout_W = 0.4,dropout_U =0.5 ))\n",
    "# model1.add(Convolution1D(64,3, border_mode = \"same\"))\n",
    "# model1.add(Activation('relu'))\n",
    "# model1.add(GlobalMaxPooling1D())\n",
    "#model1.add(Flatten())\n",
    "#model.add(LSTM(128))\n",
    "model1.add(Dense(1, activation  = \"sigmoid\"))"
   ]
  },
  {
   "cell_type": "code",
   "execution_count": 86,
   "metadata": {},
   "outputs": [
    {
     "name": "stdout",
     "output_type": "stream",
     "text": [
      "_________________________________________________________________\n",
      "Layer (type)                 Output Shape              Param #   \n",
      "=================================================================\n",
      "embedding_22 (Embedding)     (None, 80, 128)           2560000   \n",
      "_________________________________________________________________\n",
      "lstm_2 (LSTM)                (None, 128)               131584    \n",
      "_________________________________________________________________\n",
      "dense_19 (Dense)             (None, 1)                 129       \n",
      "=================================================================\n",
      "Total params: 2,691,713\n",
      "Trainable params: 2,691,713\n",
      "Non-trainable params: 0\n",
      "_________________________________________________________________\n"
     ]
    }
   ],
   "source": [
    "# model = Model(input=inputs, output=predictions)\n",
    "model1.compile(loss='binary_crossentropy',\n",
    "              optimizer='adam',\n",
    "              metrics=['accuracy'])\n",
    "model1.summary()"
   ]
  },
  {
   "cell_type": "code",
   "execution_count": 87,
   "metadata": {},
   "outputs": [
    {
     "name": "stdout",
     "output_type": "stream",
     "text": [
      "Train...\n"
     ]
    },
    {
     "name": "stderr",
     "output_type": "stream",
     "text": [
      "c:\\users\\chentao\\appdata\\local\\programs\\python\\python36\\lib\\site-packages\\keras\\models.py:942: UserWarning: The `nb_epoch` argument in `fit` has been renamed `epochs`.\n",
      "  warnings.warn('The `nb_epoch` argument in `fit` '\n"
     ]
    },
    {
     "name": "stdout",
     "output_type": "stream",
     "text": [
      "Train on 25000 samples, validate on 25000 samples\n",
      "Epoch 1/15\n",
      "25000/25000 [==============================] - 70s 3ms/step - loss: 7.1568e-04 - acc: 0.9998 - val_loss: 1.3558 - val_acc: 0.8076\n",
      "Epoch 2/15\n",
      "25000/25000 [==============================] - 70s 3ms/step - loss: 0.0021 - acc: 0.9991 - val_loss: 1.4554 - val_acc: 0.8016\n",
      "Epoch 3/15\n",
      "25000/25000 [==============================] - 66s 3ms/step - loss: 0.0027 - acc: 0.9992 - val_loss: 1.5342 - val_acc: 0.7997\n",
      "Epoch 4/15\n",
      "25000/25000 [==============================] - 64s 3ms/step - loss: 7.4727e-04 - acc: 0.9998 - val_loss: 1.5904 - val_acc: 0.7972\n",
      "Epoch 5/15\n",
      "25000/25000 [==============================] - 66s 3ms/step - loss: 6.6977e-04 - acc: 0.9997 - val_loss: 1.5625 - val_acc: 0.8016\n",
      "Epoch 6/15\n",
      "25000/25000 [==============================] - 67s 3ms/step - loss: 9.6777e-04 - acc: 0.9997 - val_loss: 1.5704 - val_acc: 0.8054\n",
      "Epoch 7/15\n",
      "25000/25000 [==============================] - 71s 3ms/step - loss: 9.2021e-04 - acc: 0.9997 - val_loss: 1.6012 - val_acc: 0.7998\n",
      "Epoch 8/15\n",
      "25000/25000 [==============================] - 82s 3ms/step - loss: 6.0233e-04 - acc: 0.9998 - val_loss: 1.6079 - val_acc: 0.8039\n",
      "Epoch 9/15\n",
      "25000/25000 [==============================] - 75s 3ms/step - loss: 6.8665e-04 - acc: 0.9998 - val_loss: 1.6114 - val_acc: 0.8031\n",
      "Epoch 10/15\n",
      "25000/25000 [==============================] - 70s 3ms/step - loss: 5.5827e-04 - acc: 0.9998 - val_loss: 1.6348 - val_acc: 0.8027\n",
      "Epoch 11/15\n",
      "25000/25000 [==============================] - 68s 3ms/step - loss: 2.8352e-04 - acc: 0.9999 - val_loss: 1.6694 - val_acc: 0.8009\n",
      "Epoch 12/15\n",
      "25000/25000 [==============================] - 65s 3ms/step - loss: 4.6219e-04 - acc: 0.9998 - val_loss: 1.6824 - val_acc: 0.8036\n",
      "Epoch 13/15\n",
      "25000/25000 [==============================] - 66s 3ms/step - loss: 6.1410e-04 - acc: 0.9997 - val_loss: 1.7206 - val_acc: 0.8039\n",
      "Epoch 14/15\n",
      "25000/25000 [==============================] - 65s 3ms/step - loss: 8.6128e-04 - acc: 0.9998 - val_loss: 1.7560 - val_acc: 0.8024\n",
      "Epoch 15/15\n",
      "25000/25000 [==============================] - 65s 3ms/step - loss: 4.6291e-04 - acc: 0.9998 - val_loss: 1.7929 - val_acc: 0.7964\n",
      "25000/25000 [==============================] - 3s 135us/step\n",
      "Test score: 1.7929289367842673\n",
      "Test accuracy: 0.79644\n"
     ]
    }
   ],
   "source": [
    "print('Train...')\n",
    "model.fit(X_train, y_train, batch_size=batch_size, nb_epoch=15,\n",
    "          validation_data=(X_test, y_test))\n",
    "score, acc = model.evaluate(X_test, y_test,\n",
    "                            batch_size=batch_size)\n",
    "print('Test score:', score)\n",
    "print('Test accuracy:', acc)"
   ]
  },
  {
   "cell_type": "code",
   "execution_count": null,
   "metadata": {},
   "outputs": [],
   "source": []
  },
  {
   "cell_type": "code",
   "execution_count": null,
   "metadata": {},
   "outputs": [],
   "source": []
  },
  {
   "cell_type": "code",
   "execution_count": null,
   "metadata": {},
   "outputs": [],
   "source": []
  }
 ],
 "metadata": {
  "kernelspec": {
   "display_name": "Python 3",
   "language": "python",
   "name": "python3"
  },
  "language_info": {
   "codemirror_mode": {
    "name": "ipython",
    "version": 3
   },
   "file_extension": ".py",
   "mimetype": "text/x-python",
   "name": "python",
   "nbconvert_exporter": "python",
   "pygments_lexer": "ipython3",
   "version": "3.6.3"
  }
 },
 "nbformat": 4,
 "nbformat_minor": 2
}
