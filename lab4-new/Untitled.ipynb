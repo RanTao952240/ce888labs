{
 "cells": [
  {
   "cell_type": "code",
   "execution_count": 1,
   "metadata": {},
   "outputs": [],
   "source": [
    "# ------------------------------------------------------------------\n",
    "# Initial import.\n",
    "# ------------------------------------------------------------------\n",
    "import numpy as np\n",
    "import os\n",
    "import pandas as pd\n",
    "import sys"
   ]
  },
  {
   "cell_type": "code",
   "execution_count": 19,
   "metadata": {},
   "outputs": [
    {
     "name": "stdout",
     "output_type": "stream",
     "text": [
      "/home/mlvm2/omniglot/python/images_background/Japanese_(hiragana)/character45/0532_02.png\n",
      "[['train image 1', 'train image 2', 'difference true=0'], ['/home/mlvm2/omniglot/python/images_background/Japanese_(hiragana)/character22/0509_02.png', '/home/mlvm2/omniglot/python/images_background/Japanese_(hiragana)/character24/0511_07.png', 0], ['/home/mlvm2/omniglot/python/images_background/Japanese_(hiragana)/character39/0526_14.png', '/home/mlvm2/omniglot/python/images_background/Japanese_(hiragana)/character40/0527_07.png', 0]]\n"
     ]
    },
    {
     "data": {
      "text/html": [
       "<div>\n",
       "<style scoped>\n",
       "    .dataframe tbody tr th:only-of-type {\n",
       "        vertical-align: middle;\n",
       "    }\n",
       "\n",
       "    .dataframe tbody tr th {\n",
       "        vertical-align: top;\n",
       "    }\n",
       "\n",
       "    .dataframe thead th {\n",
       "        text-align: right;\n",
       "    }\n",
       "</style>\n",
       "<table border=\"1\" class=\"dataframe\">\n",
       "  <thead>\n",
       "    <tr style=\"text-align: right;\">\n",
       "      <th></th>\n",
       "      <th>0</th>\n",
       "      <th>1</th>\n",
       "      <th>2</th>\n",
       "    </tr>\n",
       "  </thead>\n",
       "  <tbody>\n",
       "    <tr>\n",
       "      <th>0</th>\n",
       "      <td>train image 1</td>\n",
       "      <td>train image 2</td>\n",
       "      <td>difference true=0</td>\n",
       "    </tr>\n",
       "    <tr>\n",
       "      <th>1</th>\n",
       "      <td>/home/mlvm2/omniglot/python/images_background/...</td>\n",
       "      <td>/home/mlvm2/omniglot/python/images_background/...</td>\n",
       "      <td>0</td>\n",
       "    </tr>\n",
       "    <tr>\n",
       "      <th>2</th>\n",
       "      <td>/home/mlvm2/omniglot/python/images_background/...</td>\n",
       "      <td>/home/mlvm2/omniglot/python/images_background/...</td>\n",
       "      <td>0</td>\n",
       "    </tr>\n",
       "  </tbody>\n",
       "</table>\n",
       "</div>"
      ],
      "text/plain": [
       "                                                   0  \\\n",
       "0                                      train image 1   \n",
       "1  /home/mlvm2/omniglot/python/images_background/...   \n",
       "2  /home/mlvm2/omniglot/python/images_background/...   \n",
       "\n",
       "                                                   1                  2  \n",
       "0                                      train image 2  difference true=0  \n",
       "1  /home/mlvm2/omniglot/python/images_background/...                  0  \n",
       "2  /home/mlvm2/omniglot/python/images_background/...                  0  "
      ]
     },
     "execution_count": 19,
     "metadata": {},
     "output_type": "execute_result"
    }
   ],
   "source": [
    "# ------------------------------------------------------------------\n",
    "# Create a function to load the data(Actually, it is the directory of data).\n",
    "# So we can visit those datas easily by visit their address.\n",
    "# ------------------------------------------------------------------\n",
    "\n",
    "PATH = \"/home/mlvm2/omniglot/python/images_background/Japanese_(hiragana)\"\n",
    "Charac_list = list(os.path.join(PATH, Charac) for Charac in os.listdir(PATH))\n",
    "\n",
    "def Load_data():\n",
    "    data = [\"\", \"\", 0]\n",
    "    for i in range(0, 2):\n",
    "        rand_charac = np.random.randint(52)\n",
    "        rand_letter = np.random.randint(20)\n",
    "        rand_charac_path = Charac_list[rand_charac]\n",
    "        Letters_list = list(os.path.join(rand_charac_path, letter) for letter in os.listdir(rand_charac_path))\n",
    "        data[i] = Letters_list[rand_letter]\n",
    "    if data[0] != data[1]:\n",
    "        data[2] = 0\n",
    "    else:\n",
    "        data[2] = 1\n",
    "    return data\n",
    "\n",
    "data1 = Load_data()\n",
    "print(data1[0])\n",
    "\n",
    "Data = [[\"train image 1\", \"train image 2\", \"difference true=0\"]]\n",
    "\n",
    "for i in range(0,2):\n",
    "    data1 = Load_data()\n",
    "    Data.append(data1)\n",
    "\n",
    "print(Data)\n",
    "\n",
    "df = pd.DataFrame(Data)\n",
    "df\n",
    "\n"
   ]
  },
  {
   "cell_type": "code",
   "execution_count": 22,
   "metadata": {},
   "outputs": [],
   "source": [
    "d = df.to_latex()\n",
    "text_file = open(\"train_data.txt\", \"w\")\n",
    "text_file.write(d)\n",
    "text_file.close()"
   ]
  }
 ],
 "metadata": {
  "kernelspec": {
   "display_name": "Python 3",
   "language": "python",
   "name": "python3"
  },
  "language_info": {
   "codemirror_mode": {
    "name": "ipython",
    "version": 3
   },
   "file_extension": ".py",
   "mimetype": "text/x-python",
   "name": "python",
   "nbconvert_exporter": "python",
   "pygments_lexer": "ipython3",
   "version": "3.5.2"
  }
 },
 "nbformat": 4,
 "nbformat_minor": 2
}
